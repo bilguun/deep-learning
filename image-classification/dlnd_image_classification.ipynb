{
 "cells": [
  {
   "cell_type": "markdown",
   "metadata": {
    "collapsed": true,
    "deletable": true,
    "editable": true
   },
   "source": [
    "# Image Classification\n",
    "In this project, you'll classify images from the [CIFAR-10 dataset](https://www.cs.toronto.edu/~kriz/cifar.html).  The dataset consists of airplanes, dogs, cats, and other objects. You'll preprocess the images, then train a convolutional neural network on all the samples. The images need to be normalized and the labels need to be one-hot encoded.  You'll get to apply what you learned and build a convolutional, max pooling, dropout, and fully connected layers.  At the end, you'll get to see your neural network's predictions on the sample images.\n",
    "## Get the Data\n",
    "Run the following cell to download the [CIFAR-10 dataset for python](https://www.cs.toronto.edu/~kriz/cifar-10-python.tar.gz)."
   ]
  },
  {
   "cell_type": "code",
   "execution_count": 1,
   "metadata": {
    "collapsed": false,
    "deletable": true,
    "editable": true
   },
   "outputs": [
    {
     "name": "stdout",
     "output_type": "stream",
     "text": [
      "All files found!\n"
     ]
    }
   ],
   "source": [
    "\"\"\"\n",
    "DON'T MODIFY ANYTHING IN THIS CELL THAT IS BELOW THIS LINE\n",
    "\"\"\"\n",
    "from urllib.request import urlretrieve\n",
    "from os.path import isfile, isdir\n",
    "from tqdm import tqdm\n",
    "import problem_unittests as tests\n",
    "import tarfile\n",
    "\n",
    "cifar10_dataset_folder_path = 'cifar-10-batches-py'\n",
    "\n",
    "class DLProgress(tqdm):\n",
    "    last_block = 0\n",
    "\n",
    "    def hook(self, block_num=1, block_size=1, total_size=None):\n",
    "        self.total = total_size\n",
    "        self.update((block_num - self.last_block) * block_size)\n",
    "        self.last_block = block_num\n",
    "\n",
    "if not isfile('cifar-10-python.tar.gz'):\n",
    "    with DLProgress(unit='B', unit_scale=True, miniters=1, desc='CIFAR-10 Dataset') as pbar:\n",
    "        urlretrieve(\n",
    "            'https://www.cs.toronto.edu/~kriz/cifar-10-python.tar.gz',\n",
    "            'cifar-10-python.tar.gz',\n",
    "            pbar.hook)\n",
    "\n",
    "if not isdir(cifar10_dataset_folder_path):\n",
    "    with tarfile.open('cifar-10-python.tar.gz') as tar:\n",
    "        tar.extractall()\n",
    "        tar.close()\n",
    "\n",
    "\n",
    "tests.test_folder_path(cifar10_dataset_folder_path)"
   ]
  },
  {
   "cell_type": "markdown",
   "metadata": {
    "deletable": true,
    "editable": true
   },
   "source": [
    "## Explore the Data\n",
    "The dataset is broken into batches to prevent your machine from running out of memory.  The CIFAR-10 dataset consists of 5 batches, named `data_batch_1`, `data_batch_2`, etc.. Each batch contains the labels and images that are one of the following:\n",
    "* airplane\n",
    "* automobile\n",
    "* bird\n",
    "* cat\n",
    "* deer\n",
    "* dog\n",
    "* frog\n",
    "* horse\n",
    "* ship\n",
    "* truck\n",
    "\n",
    "Understanding a dataset is part of making predictions on the data.  Play around with the code cell below by changing the `batch_id` and `sample_id`. The `batch_id` is the id for a batch (1-5). The `sample_id` is the id for a image and label pair in the batch.\n",
    "\n",
    "Ask yourself \"What are all possible labels?\", \"What is the range of values for the image data?\", \"Are the labels in order or random?\".  Answers to questions like these will help you preprocess the data and end up with better predictions."
   ]
  },
  {
   "cell_type": "code",
   "execution_count": 2,
   "metadata": {
    "collapsed": false,
    "deletable": true,
    "editable": true
   },
   "outputs": [
    {
     "name": "stdout",
     "output_type": "stream",
     "text": [
      "\n",
      "Stats of batch 1:\n",
      "Samples: 10000\n",
      "Label Counts: {0: 1005, 1: 974, 2: 1032, 3: 1016, 4: 999, 5: 937, 6: 1030, 7: 1001, 8: 1025, 9: 981}\n",
      "First 20 Labels: [6, 9, 9, 4, 1, 1, 2, 7, 8, 3, 4, 7, 7, 2, 9, 9, 9, 3, 2, 6]\n",
      "\n",
      "Example of Image 5:\n",
      "Image - Min Value: 0 Max Value: 252\n",
      "Image - Shape: (32, 32, 3)\n",
      "Label - Label Id: 1 Name: automobile\n"
     ]
    },
    {
     "data": {
      "image/png": "[encoded data removed]",
      "text/plain": [
       "<matplotlib.figure.Figure at 0x7f5c956511d0>"
      ]
     },
     "metadata": {
      "image/png": {
       "height": 250,
       "width": 253
      }
     },
     "output_type": "display_data"
    }
   ],
   "source": [
    "%matplotlib inline\n",
    "%config InlineBackend.figure_format = 'retina'\n",
    "\n",
    "import helper\n",
    "import numpy as np\n",
    "\n",
    "# Explore the dataset\n",
    "batch_id = 1\n",
    "sample_id = 5\n",
    "helper.display_stats(cifar10_dataset_folder_path, batch_id, sample_id)"
   ]
  },
  {
   "cell_type": "markdown",
   "metadata": {
    "deletable": true,
    "editable": true
   },
   "source": [
    "## Implement Preprocess Functions\n",
    "### Normalize\n",
    "In the cell below, implement the `normalize` function to take in image data, `x`, and return it as a normalized Numpy array. The values should be in the range of 0 to 1, inclusive.  The return object should be the same shape as `x`."
   ]
  },
  {
   "cell_type": "code",
   "execution_count": 3,
   "metadata": {
    "collapsed": false,
    "deletable": true,
    "editable": true
   },
   "outputs": [
    {
     "name": "stdout",
     "output_type": "stream",
     "text": [
      "Tests Passed\n"
     ]
    }
   ],
   "source": [
    "def normalize(x):\n",
    "    \"\"\"\n",
    "    Normalize a list of sample image data in the range of 0 to 1\n",
    "    : x: List of image data.  The image shape is (32, 32, 3)\n",
    "    : return: Numpy array of normalize data\n",
    "    \"\"\"\n",
    "    # TODO: Implement Function\n",
    "    _min = np.min(x)\n",
    "    _max = np.max(x)\n",
    "    return (x-_min)/(_max-_min)\n",
    "\n",
    "\n",
    "\"\"\"\n",
    "DON'T MODIFY ANYTHING IN THIS CELL THAT IS BELOW THIS LINE\n",
    "\"\"\"\n",
    "tests.test_normalize(normalize)"
   ]
  },
  {
   "cell_type": "markdown",
   "metadata": {
    "deletable": true,
    "editable": true
   },
   "source": [
    "### One-hot encode\n",
    "Just like the previous code cell, you'll be implementing a function for preprocessing.  This time, you'll implement the `one_hot_encode` function. The input, `x`, are a list of labels.  Implement the function to return the list of labels as One-Hot encoded Numpy array.  The possible values for labels are 0 to 9. The one-hot encoding function should return the same encoding for each value between each call to `one_hot_encode`.  Make sure to save the map of encodings outside the function.\n",
    "\n",
    "Hint: Don't reinvent the wheel."
   ]
  },
  {
   "cell_type": "code",
   "execution_count": 4,
   "metadata": {
    "collapsed": false,
    "deletable": true,
    "editable": true
   },
   "outputs": [
    {
     "name": "stdout",
     "output_type": "stream",
     "text": [
      "Tests Passed\n"
     ]
    }
   ],
   "source": [
    "def one_hot_encode(x):\n",
    "    \"\"\"\n",
    "    One hot encode a list of sample labels. Return a one-hot encoded vector for each label.\n",
    "    : x: List of sample Labels\n",
    "    : return: Numpy array of one-hot encoded labels\n",
    "    \"\"\"\n",
    "    # TODO: Implement Function\n",
    "    return np.eye(10)[x]\n",
    "\n",
    "\n",
    "\"\"\"\n",
    "DON'T MODIFY ANYTHING IN THIS CELL THAT IS BELOW THIS LINE\n",
    "\"\"\"\n",
    "tests.test_one_hot_encode(one_hot_encode)"
   ]
  },
  {
   "cell_type": "markdown",
   "metadata": {
    "deletable": true,
    "editable": true
   },
   "source": [
    "### Randomize Data\n",
    "As you saw from exploring the data above, the order of the samples are randomized.  It doesn't hurt to randomize it again, but you don't need to for this dataset."
   ]
  },
  {
   "cell_type": "markdown",
   "metadata": {
    "deletable": true,
    "editable": true
   },
   "source": [
    "## Preprocess all the data and save it\n",
    "Running the code cell below will preprocess all the CIFAR-10 data and save it to file. The code below also uses 10% of the training data for validation."
   ]
  },
  {
   "cell_type": "code",
   "execution_count": 6,
   "metadata": {
    "collapsed": false,
    "deletable": true,
    "editable": true
   },
   "outputs": [],
   "source": [
    "\"\"\"\n",
    "DON'T MODIFY ANYTHING IN THIS CELL\n",
    "\"\"\"\n",
    "# Preprocess Training, Validation, and Testing Data\n",
    "helper.preprocess_and_save_data(cifar10_dataset_folder_path, normalize, one_hot_encode)"
   ]
  },
  {
   "cell_type": "markdown",
   "metadata": {
    "deletable": true,
    "editable": true
   },
   "source": [
    "# Check Point\n",
    "This is your first checkpoint.  If you ever decide to come back to this notebook or have to restart the notebook, you can start from here.  The preprocessed data has been saved to disk."
   ]
  },
  {
   "cell_type": "code",
   "execution_count": 7,
   "metadata": {
    "collapsed": true,
    "deletable": true,
    "editable": true
   },
   "outputs": [],
   "source": [
    "\"\"\"\n",
    "DON'T MODIFY ANYTHING IN THIS CELL\n",
    "\"\"\"\n",
    "import pickle\n",
    "import problem_unittests as tests\n",
    "import helper\n",
    "\n",
    "# Load the Preprocessed Validation data\n",
    "valid_features, valid_labels = pickle.load(open('preprocess_validation.p', mode='rb'))"
   ]
  },
  {
   "cell_type": "markdown",
   "metadata": {
    "deletable": true,
    "editable": true
   },
   "source": [
    "## Build the network\n",
    "For the neural network, you'll build each layer into a function.  Most of the code you've seen has been outside of functions. To test your code more thoroughly, we require that you put each layer in a function.  This allows us to give you better feedback and test for simple mistakes using our unittests before you submit your project.\n",
    "\n",
    ">**Note:** If you're finding it hard to dedicate enough time for this course each week, we've provided a small shortcut to this part of the project. In the next couple of problems, you'll have the option to use classes from the [TensorFlow Layers](https://www.tensorflow.org/api_docs/python/tf/layers) or [TensorFlow Layers (contrib)](https://www.tensorflow.org/api_guides/python/contrib.layers) packages to build each layer, except the layers you build in the \"Convolutional and Max Pooling Layer\" section.  TF Layers is similar to Keras's and TFLearn's abstraction to layers, so it's easy to pickup.\n",
    "\n",
    ">However, if you would like to get the most out of this course, try to solve all the problems _without_ using anything from the TF Layers packages. You **can** still use classes from other packages that happen to have the same name as ones you find in TF Layers! For example, instead of using the TF Layers version of the `conv2d` class, [tf.layers.conv2d](https://www.tensorflow.org/api_docs/python/tf/layers/conv2d), you would want to use the TF Neural Network version of `conv2d`, [tf.nn.conv2d](https://www.tensorflow.org/api_docs/python/tf/nn/conv2d). \n",
    "\n",
    "Let's begin!\n",
    "\n",
    "### Input\n",
    "The neural network needs to read the image data, one-hot encoded labels, and dropout keep probability. Implement the following functions\n",
    "* Implement `neural_net_image_input`\n",
    " * Return a [TF Placeholder](https://www.tensorflow.org/api_docs/python/tf/placeholder)\n",
    " * Set the shape using `image_shape` with batch size set to `None`.\n",
    " * Name the TensorFlow placeholder \"x\" using the TensorFlow `name` parameter in the [TF Placeholder](https://www.tensorflow.org/api_docs/python/tf/placeholder).\n",
    "* Implement `neural_net_label_input`\n",
    " * Return a [TF Placeholder](https://www.tensorflow.org/api_docs/python/tf/placeholder)\n",
    " * Set the shape using `n_classes` with batch size set to `None`.\n",
    " * Name the TensorFlow placeholder \"y\" using the TensorFlow `name` parameter in the [TF Placeholder](https://www.tensorflow.org/api_docs/python/tf/placeholder).\n",
    "* Implement `neural_net_keep_prob_input`\n",
    " * Return a [TF Placeholder](https://www.tensorflow.org/api_docs/python/tf/placeholder) for dropout keep probability.\n",
    " * Name the TensorFlow placeholder \"keep_prob\" using the TensorFlow `name` parameter in the [TF Placeholder](https://www.tensorflow.org/api_docs/python/tf/placeholder).\n",
    "\n",
    "These names will be used at the end of the project to load your saved model.\n",
    "\n",
    "Note: `None` for shapes in TensorFlow allow for a dynamic size."
   ]
  },
  {
   "cell_type": "code",
   "execution_count": 8,
   "metadata": {
    "collapsed": false,
    "deletable": true,
    "editable": true
   },
   "outputs": [
    {
     "name": "stdout",
     "output_type": "stream",
     "text": [
      "Image Input Tests Passed.\n",
      "Label Input Tests Passed.\n",
      "Keep Prob Tests Passed.\n"
     ]
    }
   ],
   "source": [
    "import tensorflow as tf\n",
    "\n",
    "def neural_net_image_input(image_shape):\n",
    "    \"\"\"\n",
    "    Return a Tensor for a bach of image input\n",
    "    : image_shape: Shape of the images\n",
    "    : return: Tensor for image input.\n",
    "    \"\"\"\n",
    "    # TODO: Implement Function\n",
    "    return tf.placeholder(tf.float32, [None, *image_shape], name='x')\n",
    "\n",
    "\n",
    "def neural_net_label_input(n_classes):\n",
    "    \"\"\"\n",
    "    Return a Tensor for a batch of label input\n",
    "    : n_classes: Number of classes\n",
    "    : return: Tensor for label input.\n",
    "    \"\"\"\n",
    "    # TODO: Implement Function\n",
    "    return tf.placeholder(tf.float32, [None, n_classes], name='y')\n",
    "\n",
    "\n",
    "def neural_net_keep_prob_input():\n",
    "    \"\"\"\n",
    "    Return a Tensor for keep probability\n",
    "    : return: Tensor for keep probability.\n",
    "    \"\"\"\n",
    "    # TODO: Implement Function\n",
    "    return tf.placeholder(tf.float32, name='keep_prob')\n",
    "\n",
    "\n",
    "\"\"\"\n",
    "DON'T MODIFY ANYTHING IN THIS CELL THAT IS BELOW THIS LINE\n",
    "\"\"\"\n",
    "tf.reset_default_graph()\n",
    "tests.test_nn_image_inputs(neural_net_image_input)\n",
    "tests.test_nn_label_inputs(neural_net_label_input)\n",
    "tests.test_nn_keep_prob_inputs(neural_net_keep_prob_input)"
   ]
  },
  {
   "cell_type": "markdown",
   "metadata": {
    "deletable": true,
    "editable": true
   },
   "source": [
    "### Convolution and Max Pooling Layer\n",
    "Convolution layers have a lot of success with images. For this code cell, you should implement the function `conv2d_maxpool` to apply convolution then max pooling:\n",
    "* Create the weight and bias using `conv_ksize`, `conv_num_outputs` and the shape of `x_tensor`.\n",
    "* Apply a convolution to `x_tensor` using weight and `conv_strides`.\n",
    " * We recommend you use same padding, but you're welcome to use any padding.\n",
    "* Add bias\n",
    "* Add a nonlinear activation to the convolution.\n",
    "* Apply Max Pooling using `pool_ksize` and `pool_strides`.\n",
    " * We recommend you use same padding, but you're welcome to use any padding.\n",
    "\n",
    "**Note:** You **can't** use [TensorFlow Layers](https://www.tensorflow.org/api_docs/python/tf/layers) or [TensorFlow Layers (contrib)](https://www.tensorflow.org/api_guides/python/contrib.layers) for **this** layer, but you can still use TensorFlow's [Neural Network](https://www.tensorflow.org/api_docs/python/tf/nn) package. You may still use the shortcut option for all the **other** layers."
   ]
  },
  {
   "cell_type": "code",
   "execution_count": 9,
   "metadata": {
    "collapsed": false,
    "deletable": true,
    "editable": true
   },
   "outputs": [
    {
     "name": "stdout",
     "output_type": "stream",
     "text": [
      "Tests Passed\n"
     ]
    }
   ],
   "source": [
    "def conv2d_maxpool(x_tensor, conv_num_outputs, conv_ksize, conv_strides, pool_ksize, pool_strides):\n",
    "    \"\"\"\n",
    "    Apply convolution then max pooling to x_tensor\n",
    "    :param x_tensor: TensorFlow Tensor\n",
    "    :param conv_num_outputs: Number of outputs for the convolutional layer\n",
    "    :param conv_ksize: kernal size 2-D Tuple for the convolutional layer\n",
    "    :param conv_strides: Stride 2-D Tuple for convolution\n",
    "    :param pool_ksize: kernal size 2-D Tuple for pool\n",
    "    :param pool_strides: Stride 2-D Tuple for pool\n",
    "    : return: A tensor that represents convolution and max pooling of x_tensor\n",
    "    \"\"\"\n",
    "    # TODO: Implement Function\n",
    "    in_depth = x_tensor.get_shape()[3].value\n",
    "    out_depth = conv_num_outputs\n",
    "    w_shape = [conv_ksize[0], conv_ksize[1], in_depth, out_depth]\n",
    "    weights = tf.Variable(tf.truncated_normal(w_shape, mean=0, stddev=0.01))\n",
    "    \n",
    "    strides = [1, conv_strides[0], conv_strides[1], 1]\n",
    "    padding = 'SAME'\n",
    "    \n",
    "    bias = tf.Variable(tf.zeros(out_depth))\n",
    "    \n",
    "    conv = tf.nn.conv2d(x_tensor, weights, strides, padding)\n",
    "    conv = tf.nn.bias_add(conv, bias)\n",
    "    conv = tf.nn.relu(conv)\n",
    "    \n",
    "    maxpl_ksize = [1, pool_ksize[0], pool_ksize[1], 1]\n",
    "    maxpl_strides = [1, pool_strides[0], pool_strides[1], 1]\n",
    "    conv = tf.nn.max_pool(conv, ksize=maxpl_ksize, strides=maxpl_strides, padding='SAME')\n",
    "    \n",
    "    return conv \n",
    "\n",
    "\n",
    "\"\"\"\n",
    "DON'T MODIFY ANYTHING IN THIS CELL THAT IS BELOW THIS LINE\n",
    "\"\"\"\n",
    "tests.test_con_pool(conv2d_maxpool)"
   ]
  },
  {
   "cell_type": "markdown",
   "metadata": {
    "deletable": true,
    "editable": true
   },
   "source": [
    "### Flatten Layer\n",
    "Implement the `flatten` function to change the dimension of `x_tensor` from a 4-D tensor to a 2-D tensor.  The output should be the shape (*Batch Size*, *Flattened Image Size*). Shortcut option: you can use classes from the [TensorFlow Layers](https://www.tensorflow.org/api_docs/python/tf/layers) or [TensorFlow Layers (contrib)](https://www.tensorflow.org/api_guides/python/contrib.layers) packages for this layer. For more of a challenge, only use other TensorFlow packages."
   ]
  },
  {
   "cell_type": "code",
   "execution_count": 10,
   "metadata": {
    "collapsed": false,
    "deletable": true,
    "editable": true,
    "scrolled": true
   },
   "outputs": [
    {
     "name": "stdout",
     "output_type": "stream",
     "text": [
      "Tests Passed\n"
     ]
    }
   ],
   "source": [
    "def flatten(x_tensor):\n",
    "    \"\"\"\n",
    "    Flatten x_tensor to (Batch Size, Flattened Image Size)\n",
    "    : x_tensor: A tensor of size (Batch Size, ...), where ... are the image dimensions.\n",
    "    : return: A tensor of size (Batch Size, Flattened Image Size).\n",
    "    \"\"\"\n",
    "    # TODO: Implement Function\n",
    "    batch_size, *img_size = x_tensor.get_shape().as_list() \n",
    "    img_size = img_size[0] * img_size[1] * img_size[2]\n",
    "    return tf.reshape(x_tensor, [-1,  img_size])\n",
    "\n",
    "\n",
    "\"\"\"\n",
    "DON'T MODIFY ANYTHING IN THIS CELL THAT IS BELOW THIS LINE\n",
    "\"\"\"\n",
    "tests.test_flatten(flatten)"
   ]
  },
  {
   "cell_type": "markdown",
   "metadata": {
    "deletable": true,
    "editable": true
   },
   "source": [
    "### Fully-Connected Layer\n",
    "Implement the `fully_conn` function to apply a fully connected layer to `x_tensor` with the shape (*Batch Size*, *num_outputs*). Shortcut option: you can use classes from the [TensorFlow Layers](https://www.tensorflow.org/api_docs/python/tf/layers) or [TensorFlow Layers (contrib)](https://www.tensorflow.org/api_guides/python/contrib.layers) packages for this layer. For more of a challenge, only use other TensorFlow packages."
   ]
  },
  {
   "cell_type": "code",
   "execution_count": 11,
   "metadata": {
    "collapsed": false,
    "deletable": true,
    "editable": true
   },
   "outputs": [
    {
     "name": "stdout",
     "output_type": "stream",
     "text": [
      "Tests Passed\n"
     ]
    }
   ],
   "source": [
    "def fully_conn(x_tensor, num_outputs):\n",
    "    \"\"\"\n",
    "    Apply a fully connected layer to x_tensor using weight and bias\n",
    "    : x_tensor: A 2-D tensor where the first dimension is batch size.\n",
    "    : num_outputs: The number of output that the new tensor should be.\n",
    "    : return: A 2-D tensor where the second dimension is num_outputs.\n",
    "    \"\"\"\n",
    "    # TODO: Implement Function\n",
    "    w_shape = (int(x_tensor.get_shape().as_list()[1]), num_outputs)\n",
    "    w = tf.Variable(tf.truncated_normal(w_shape, mean=0.0, stddev=0.1))\n",
    "    b = tf.Variable(tf.zeros(num_outputs))\n",
    "    return tf.nn.bias_add(tf.matmul(x_tensor, w), b)\n",
    "\n",
    "\n",
    "\"\"\"\n",
    "DON'T MODIFY ANYTHING IN THIS CELL THAT IS BELOW THIS LINE\n",
    "\"\"\"\n",
    "tests.test_fully_conn(fully_conn)"
   ]
  },
  {
   "cell_type": "markdown",
   "metadata": {
    "deletable": true,
    "editable": true
   },
   "source": [
    "### Output Layer\n",
    "Implement the `output` function to apply a fully connected layer to `x_tensor` with the shape (*Batch Size*, *num_outputs*). Shortcut option: you can use classes from the [TensorFlow Layers](https://www.tensorflow.org/api_docs/python/tf/layers) or [TensorFlow Layers (contrib)](https://www.tensorflow.org/api_guides/python/contrib.layers) packages for this layer. For more of a challenge, only use other TensorFlow packages.\n",
    "\n",
    "**Note:** Activation, softmax, or cross entropy should **not** be applied to this."
   ]
  },
  {
   "cell_type": "code",
   "execution_count": 12,
   "metadata": {
    "collapsed": false,
    "deletable": true,
    "editable": true
   },
   "outputs": [
    {
     "name": "stdout",
     "output_type": "stream",
     "text": [
      "Tests Passed\n"
     ]
    }
   ],
   "source": [
    "def output(x_tensor, num_outputs):\n",
    "    \"\"\"\n",
    "    Apply a output layer to x_tensor using weight and bias\n",
    "    : x_tensor: A 2-D tensor where the first dimension is batch size.\n",
    "    : num_outputs: The number of output that the new tensor should be.\n",
    "    : return: A 2-D tensor where the second dimension is num_outputs.\n",
    "    \"\"\"\n",
    "    # TODO: Implement Function \n",
    "    w_shape = (int(x_tensor.get_shape().as_list()[1]), num_outputs)\n",
    "    w = tf.Variable(tf.truncated_normal(w_shape, mean=0.0, stddev=0.1))\n",
    "    b = tf.Variable(tf.zeros(num_outputs))\n",
    "    return tf.nn.bias_add(tf.matmul(x_tensor, w), b)\n",
    "\n",
    "\n",
    "\"\"\"\n",
    "DON'T MODIFY ANYTHING IN THIS CELL THAT IS BELOW THIS LINE\n",
    "\"\"\"\n",
    "tests.test_output(output)"
   ]
  },
  {
   "cell_type": "markdown",
   "metadata": {
    "deletable": true,
    "editable": true
   },
   "source": [
    "### Create Convolutional Model\n",
    "Implement the function `conv_net` to create a convolutional neural network model. The function takes in a batch of images, `x`, and outputs logits.  Use the layers you created above to create this model:\n",
    "\n",
    "* Apply 1, 2, or 3 Convolution and Max Pool layers\n",
    "* Apply a Flatten Layer\n",
    "* Apply 1, 2, or 3 Fully Connected Layers\n",
    "* Apply an Output Layer\n",
    "* Return the output\n",
    "* Apply [TensorFlow's Dropout](https://www.tensorflow.org/api_docs/python/tf/nn/dropout) to one or more layers in the model using `keep_prob`. "
   ]
  },
  {
   "cell_type": "code",
   "execution_count": 13,
   "metadata": {
    "collapsed": false,
    "deletable": true,
    "editable": true
   },
   "outputs": [
    {
     "name": "stdout",
     "output_type": "stream",
     "text": [
      "Neural Network Built!\n"
     ]
    }
   ],
   "source": [
    "def conv_net(x, keep_prob):\n",
    "    \"\"\"\n",
    "    Create a convolutional neural network model\n",
    "    : x: Placeholder tensor that holds image data.\n",
    "    : keep_prob: Placeholder tensor that hold dropout keep probability.\n",
    "    : return: Tensor that represents logits\n",
    "    \"\"\"\n",
    "    # TODO: Apply 1, 2, or 3 Convolution and Max Pool layers\n",
    "    #    Play around with different number of outputs, kernel size and stride\n",
    "    # Function Definition from Above:\n",
    "    #    conv2d_maxpool(x_tensor, conv_num_outputs, \n",
    "    #          conv_ksize, conv_strides, pool_ksize, pool_strides)\n",
    "    conv = conv2d_maxpool(x, 32, [3,3], [1,1], [2,2], [2,2])\n",
    "    conv = conv2d_maxpool(conv, 64, [3,3], [1,1], [2,2], [2,2])\n",
    "    conv = tf.nn.dropout(conv, keep_prob)\n",
    "    conv = conv2d_maxpool(conv, 128, [3,3], [1,1], [2,2], [2,2])\n",
    "    conv = conv2d_maxpool(conv, 256, [3,3], [1,1], [2,2], [2,2])\n",
    "    conv = tf.nn.dropout(conv, keep_prob)\n",
    "    \n",
    "    # TODO: Apply a Flatten Layer\n",
    "    # Function Definition from Above:\n",
    "    #   flatten(x_tensor)\n",
    "    flat = flatten(conv)\n",
    "\n",
    "    # TODO: Apply 1, 2, or 3 Fully Connected Layers\n",
    "    #    Play around with different number of outputs\n",
    "    # Function Definition from Above:\n",
    "    #   fully_conn(x_tensor, num_outputs)\n",
    "    full = fully_conn(flat, 64)\n",
    "    full = fully_conn(full, 32)\n",
    "    \n",
    "    # TODO: Apply an Output Layer\n",
    "    #    Set this to the number of classes\n",
    "    # Function Definition from Above:\n",
    "    #   output(x_tensor, num_outputs)\n",
    "    out = output(full, 10)\n",
    "    \n",
    "    # TODO: return output\n",
    "    return out\n",
    "\n",
    "\n",
    "\"\"\"\n",
    "DON'T MODIFY ANYTHING IN THIS CELL THAT IS BELOW THIS LINE\n",
    "\"\"\"\n",
    "\n",
    "##############################\n",
    "## Build the Neural Network ##\n",
    "##############################\n",
    "\n",
    "# Remove previous weights, bias, inputs, etc..\n",
    "tf.reset_default_graph()\n",
    "\n",
    "# Inputs\n",
    "x = neural_net_image_input((32, 32, 3))\n",
    "y = neural_net_label_input(10)\n",
    "keep_prob = neural_net_keep_prob_input()\n",
    "\n",
    "# Model\n",
    "logits = conv_net(x, keep_prob)\n",
    "\n",
    "# Name logits Tensor, so that is can be loaded from disk after training\n",
    "logits = tf.identity(logits, name='logits')\n",
    "\n",
    "# Loss and Optimizer\n",
    "cost = tf.reduce_mean(tf.nn.softmax_cross_entropy_with_logits(logits=logits, labels=y))\n",
    "optimizer = tf.train.AdamOptimizer().minimize(cost)\n",
    "\n",
    "# Accuracy\n",
    "correct_pred = tf.equal(tf.argmax(logits, 1), tf.argmax(y, 1))\n",
    "accuracy = tf.reduce_mean(tf.cast(correct_pred, tf.float32), name='accuracy')\n",
    "\n",
    "tests.test_conv_net(conv_net)"
   ]
  },
  {
   "cell_type": "markdown",
   "metadata": {
    "deletable": true,
    "editable": true
   },
   "source": [
    "## Train the Neural Network\n",
    "### Single Optimization\n",
    "Implement the function `train_neural_network` to do a single optimization.  The optimization should use `optimizer` to optimize in `session` with a `feed_dict` of the following:\n",
    "* `x` for image input\n",
    "* `y` for labels\n",
    "* `keep_prob` for keep probability for dropout\n",
    "\n",
    "This function will be called for each batch, so `tf.global_variables_initializer()` has already been called.\n",
    "\n",
    "Note: Nothing needs to be returned. This function is only optimizing the neural network."
   ]
  },
  {
   "cell_type": "code",
   "execution_count": 14,
   "metadata": {
    "collapsed": false,
    "deletable": true,
    "editable": true
   },
   "outputs": [
    {
     "name": "stdout",
     "output_type": "stream",
     "text": [
      "Tests Passed\n"
     ]
    }
   ],
   "source": [
    "def train_neural_network(session, optimizer, keep_probability, feature_batch, label_batch):\n",
    "    \"\"\"\n",
    "    Optimize the session on a batch of images and labels\n",
    "    : session: Current TensorFlow session\n",
    "    : optimizer: TensorFlow optimizer function\n",
    "    : keep_probability: keep probability\n",
    "    : feature_batch: Batch of Numpy image data\n",
    "    : label_batch: Batch of Numpy label data\n",
    "    \"\"\"\n",
    "    # TODO: Implement Function\n",
    "    session.run(optimizer, feed_dict={x:feature_batch, y:label_batch, keep_prob:keep_probability})\n",
    "\n",
    "\n",
    "\"\"\"\n",
    "DON'T MODIFY ANYTHING IN THIS CELL THAT IS BELOW THIS LINE\n",
    "\"\"\"\n",
    "tests.test_train_nn(train_neural_network)"
   ]
  },
  {
   "cell_type": "markdown",
   "metadata": {
    "deletable": true,
    "editable": true
   },
   "source": [
    "### Show Stats\n",
    "Implement the function `print_stats` to print loss and validation accuracy.  Use the global variables `valid_features` and `valid_labels` to calculate validation accuracy.  Use a keep probability of `1.0` to calculate the loss and validation accuracy."
   ]
  },
  {
   "cell_type": "code",
   "execution_count": 15,
   "metadata": {
    "collapsed": false,
    "deletable": true,
    "editable": true
   },
   "outputs": [],
   "source": [
    "def print_stats(session, feature_batch, label_batch, cost, accuracy):\n",
    "    \"\"\"\n",
    "    Print information about loss and validation accuracy\n",
    "    : session: Current TensorFlow session\n",
    "    : feature_batch: Batch of Numpy image data\n",
    "    : label_batch: Batch of Numpy label data\n",
    "    : cost: TensorFlow cost function\n",
    "    : accuracy: TensorFlow accuracy function\n",
    "    \"\"\"\n",
    "    # TODO: Implement Function\n",
    "    loss = session.run(cost, feed_dict={x:feature_batch, y:label_batch, keep_prob:1.0})\n",
    "    valid_acc = session.run(accuracy, feed_dict={x:feature_batch, y:label_batch, keep_prob:1.0})\n",
    "    print('Loss: {:>10.4f} Vallidaction Accuracy: {:.6f}'.format(loss, valid_acc))"
   ]
  },
  {
   "cell_type": "markdown",
   "metadata": {
    "deletable": true,
    "editable": true
   },
   "source": [
    "### Hyperparameters\n",
    "Tune the following parameters:\n",
    "* Set `epochs` to the number of iterations until the network stops learning or start overfitting\n",
    "* Set `batch_size` to the highest number that your machine has memory for.  Most people set them to common sizes of memory:\n",
    " * 64\n",
    " * 128\n",
    " * 256\n",
    " * ...\n",
    "* Set `keep_probability` to the probability of keeping a node using dropout"
   ]
  },
  {
   "cell_type": "code",
   "execution_count": 17,
   "metadata": {
    "collapsed": true,
    "deletable": true,
    "editable": true
   },
   "outputs": [],
   "source": [
    "# TODO: Tune Parameters\n",
    "epochs = 70\n",
    "batch_size = 128\n",
    "keep_probability = 0.5"
   ]
  },
  {
   "cell_type": "markdown",
   "metadata": {
    "deletable": true,
    "editable": true
   },
   "source": [
    "### Train on a Single CIFAR-10 Batch\n",
    "Instead of training the neural network on all the CIFAR-10 batches of data, let's use a single batch. This should save time while you iterate on the model to get a better accuracy.  Once the final validation accuracy is 50% or greater, run the model on all the data in the next section."
   ]
  },
  {
   "cell_type": "code",
   "execution_count": 18,
   "metadata": {
    "collapsed": false,
    "deletable": true,
    "editable": true
   },
   "outputs": [
    {
     "name": "stdout",
     "output_type": "stream",
     "text": [
      "Checking the Training on a Single Batch...\n",
      "Epoch  1, CIFAR-10 Batch 1:  Loss:     2.1509 Vallidaction Accuracy: 0.225000\n",
      "Epoch  2, CIFAR-10 Batch 1:  Loss:     2.0186 Vallidaction Accuracy: 0.275000\n",
      "Epoch  3, CIFAR-10 Batch 1:  Loss:     1.9966 Vallidaction Accuracy: 0.300000\n",
      "Epoch  4, CIFAR-10 Batch 1:  Loss:     1.9980 Vallidaction Accuracy: 0.325000\n",
      "Epoch  5, CIFAR-10 Batch 1:  Loss:     1.9325 Vallidaction Accuracy: 0.400000\n",
      "Epoch  6, CIFAR-10 Batch 1:  Loss:     1.8256 Vallidaction Accuracy: 0.400000\n",
      "Epoch  7, CIFAR-10 Batch 1:  Loss:     1.7422 Vallidaction Accuracy: 0.425000\n",
      "Epoch  8, CIFAR-10 Batch 1:  Loss:     1.6719 Vallidaction Accuracy: 0.425000\n",
      "Epoch  9, CIFAR-10 Batch 1:  Loss:     1.6577 Vallidaction Accuracy: 0.425000\n",
      "Epoch 10, CIFAR-10 Batch 1:  Loss:     1.6225 Vallidaction Accuracy: 0.450000\n",
      "Epoch 11, CIFAR-10 Batch 1:  Loss:     1.5431 Vallidaction Accuracy: 0.450000\n",
      "Epoch 12, CIFAR-10 Batch 1:  Loss:     1.5076 Vallidaction Accuracy: 0.475000\n",
      "Epoch 13, CIFAR-10 Batch 1:  Loss:     1.5195 Vallidaction Accuracy: 0.500000\n",
      "Epoch 14, CIFAR-10 Batch 1:  Loss:     1.4352 Vallidaction Accuracy: 0.525000\n",
      "Epoch 15, CIFAR-10 Batch 1:  Loss:     1.3697 Vallidaction Accuracy: 0.500000\n",
      "Epoch 16, CIFAR-10 Batch 1:  Loss:     1.3449 Vallidaction Accuracy: 0.575000\n",
      "Epoch 17, CIFAR-10 Batch 1:  Loss:     1.3021 Vallidaction Accuracy: 0.625000\n",
      "Epoch 18, CIFAR-10 Batch 1:  Loss:     1.2912 Vallidaction Accuracy: 0.550000\n",
      "Epoch 19, CIFAR-10 Batch 1:  Loss:     1.2832 Vallidaction Accuracy: 0.525000\n",
      "Epoch 20, CIFAR-10 Batch 1:  Loss:     1.2517 Vallidaction Accuracy: 0.525000\n",
      "Epoch 21, CIFAR-10 Batch 1:  Loss:     1.1747 Vallidaction Accuracy: 0.575000\n",
      "Epoch 22, CIFAR-10 Batch 1:  Loss:     1.1418 Vallidaction Accuracy: 0.675000\n",
      "Epoch 23, CIFAR-10 Batch 1:  Loss:     1.0747 Vallidaction Accuracy: 0.650000\n",
      "Epoch 24, CIFAR-10 Batch 1:  Loss:     1.0388 Vallidaction Accuracy: 0.650000\n",
      "Epoch 25, CIFAR-10 Batch 1:  Loss:     1.0028 Vallidaction Accuracy: 0.650000\n",
      "Epoch 26, CIFAR-10 Batch 1:  Loss:     1.0257 Vallidaction Accuracy: 0.650000\n",
      "Epoch 27, CIFAR-10 Batch 1:  Loss:     0.8823 Vallidaction Accuracy: 0.650000\n",
      "Epoch 28, CIFAR-10 Batch 1:  Loss:     0.9171 Vallidaction Accuracy: 0.650000\n",
      "Epoch 29, CIFAR-10 Batch 1:  Loss:     0.8742 Vallidaction Accuracy: 0.700000\n",
      "Epoch 30, CIFAR-10 Batch 1:  Loss:     0.8586 Vallidaction Accuracy: 0.675000\n",
      "Epoch 31, CIFAR-10 Batch 1:  Loss:     0.8116 Vallidaction Accuracy: 0.750000\n",
      "Epoch 32, CIFAR-10 Batch 1:  Loss:     0.8135 Vallidaction Accuracy: 0.700000\n",
      "Epoch 33, CIFAR-10 Batch 1:  Loss:     0.7672 Vallidaction Accuracy: 0.750000\n",
      "Epoch 34, CIFAR-10 Batch 1:  Loss:     0.6903 Vallidaction Accuracy: 0.725000\n",
      "Epoch 35, CIFAR-10 Batch 1:  Loss:     0.6496 Vallidaction Accuracy: 0.825000\n",
      "Epoch 36, CIFAR-10 Batch 1:  Loss:     0.6393 Vallidaction Accuracy: 0.800000\n",
      "Epoch 37, CIFAR-10 Batch 1:  Loss:     0.6073 Vallidaction Accuracy: 0.775000\n",
      "Epoch 38, CIFAR-10 Batch 1:  Loss:     0.5488 Vallidaction Accuracy: 0.875000\n",
      "Epoch 39, CIFAR-10 Batch 1:  Loss:     0.6285 Vallidaction Accuracy: 0.825000\n",
      "Epoch 40, CIFAR-10 Batch 1:  Loss:     0.5613 Vallidaction Accuracy: 0.825000\n",
      "Epoch 41, CIFAR-10 Batch 1:  Loss:     0.4925 Vallidaction Accuracy: 0.925000\n",
      "Epoch 42, CIFAR-10 Batch 1:  Loss:     0.4954 Vallidaction Accuracy: 0.900000\n",
      "Epoch 43, CIFAR-10 Batch 1:  Loss:     0.5134 Vallidaction Accuracy: 0.850000\n",
      "Epoch 44, CIFAR-10 Batch 1:  Loss:     0.4481 Vallidaction Accuracy: 0.900000\n",
      "Epoch 45, CIFAR-10 Batch 1:  Loss:     0.4314 Vallidaction Accuracy: 0.900000\n",
      "Epoch 46, CIFAR-10 Batch 1:  Loss:     0.4315 Vallidaction Accuracy: 0.925000\n",
      "Epoch 47, CIFAR-10 Batch 1:  Loss:     0.3925 Vallidaction Accuracy: 0.925000\n",
      "Epoch 48, CIFAR-10 Batch 1:  Loss:     0.4101 Vallidaction Accuracy: 0.875000\n",
      "Epoch 49, CIFAR-10 Batch 1:  Loss:     0.3692 Vallidaction Accuracy: 0.950000\n",
      "Epoch 50, CIFAR-10 Batch 1:  Loss:     0.3471 Vallidaction Accuracy: 0.925000\n",
      "Epoch 51, CIFAR-10 Batch 1:  Loss:     0.3772 Vallidaction Accuracy: 0.950000\n",
      "Epoch 52, CIFAR-10 Batch 1:  Loss:     0.3335 Vallidaction Accuracy: 0.925000\n",
      "Epoch 53, CIFAR-10 Batch 1:  Loss:     0.3685 Vallidaction Accuracy: 0.875000\n",
      "Epoch 54, CIFAR-10 Batch 1:  Loss:     0.3069 Vallidaction Accuracy: 0.950000\n",
      "Epoch 55, CIFAR-10 Batch 1:  Loss:     0.3081 Vallidaction Accuracy: 0.900000\n",
      "Epoch 56, CIFAR-10 Batch 1:  Loss:     0.2265 Vallidaction Accuracy: 0.950000\n",
      "Epoch 57, CIFAR-10 Batch 1:  Loss:     0.2414 Vallidaction Accuracy: 0.950000\n",
      "Epoch 58, CIFAR-10 Batch 1:  Loss:     0.2747 Vallidaction Accuracy: 0.925000\n",
      "Epoch 59, CIFAR-10 Batch 1:  Loss:     0.2789 Vallidaction Accuracy: 0.925000\n",
      "Epoch 60, CIFAR-10 Batch 1:  Loss:     0.2122 Vallidaction Accuracy: 0.950000\n",
      "Epoch 61, CIFAR-10 Batch 1:  Loss:     0.2049 Vallidaction Accuracy: 0.950000\n",
      "Epoch 62, CIFAR-10 Batch 1:  Loss:     0.2247 Vallidaction Accuracy: 0.975000\n",
      "Epoch 63, CIFAR-10 Batch 1:  Loss:     0.1764 Vallidaction Accuracy: 0.975000\n",
      "Epoch 64, CIFAR-10 Batch 1:  Loss:     0.1684 Vallidaction Accuracy: 0.950000\n",
      "Epoch 65, CIFAR-10 Batch 1:  Loss:     0.1743 Vallidaction Accuracy: 0.950000\n",
      "Epoch 66, CIFAR-10 Batch 1:  Loss:     0.1886 Vallidaction Accuracy: 0.950000\n",
      "Epoch 67, CIFAR-10 Batch 1:  Loss:     0.1699 Vallidaction Accuracy: 0.975000\n",
      "Epoch 68, CIFAR-10 Batch 1:  Loss:     0.1765 Vallidaction Accuracy: 0.975000\n",
      "Epoch 69, CIFAR-10 Batch 1:  Loss:     0.1795 Vallidaction Accuracy: 0.975000\n",
      "Epoch 70, CIFAR-10 Batch 1:  Loss:     0.1614 Vallidaction Accuracy: 0.975000\n"
     ]
    }
   ],
   "source": [
    "\"\"\"\n",
    "DON'T MODIFY ANYTHING IN THIS CELL\n",
    "\"\"\"\n",
    "print('Checking the Training on a Single Batch...')\n",
    "with tf.Session() as sess:\n",
    "    # Initializing the variables\n",
    "    sess.run(tf.global_variables_initializer())\n",
    "    \n",
    "    # Training cycle\n",
    "    for epoch in range(epochs):\n",
    "        batch_i = 1\n",
    "        for batch_features, batch_labels in helper.load_preprocess_training_batch(batch_i, batch_size):\n",
    "            train_neural_network(sess, optimizer, keep_probability, batch_features, batch_labels)\n",
    "        print('Epoch {:>2}, CIFAR-10 Batch {}:  '.format(epoch + 1, batch_i), end='')\n",
    "        print_stats(sess, batch_features, batch_labels, cost, accuracy)"
   ]
  },
  {
   "cell_type": "markdown",
   "metadata": {
    "deletable": true,
    "editable": true
   },
   "source": [
    "### Fully Train the Model\n",
    "Now that you got a good accuracy with a single CIFAR-10 batch, try it with all five batches."
   ]
  },
  {
   "cell_type": "code",
   "execution_count": 19,
   "metadata": {
    "collapsed": false,
    "deletable": true,
    "editable": true
   },
   "outputs": [
    {
     "name": "stdout",
     "output_type": "stream",
     "text": [
      "Training...\n",
      "Epoch  1, CIFAR-10 Batch 1:  Loss:     2.2394 Vallidaction Accuracy: 0.200000\n",
      "Epoch  1, CIFAR-10 Batch 2:  Loss:     2.1008 Vallidaction Accuracy: 0.225000\n",
      "Epoch  1, CIFAR-10 Batch 3:  Loss:     1.7815 Vallidaction Accuracy: 0.175000\n",
      "Epoch  1, CIFAR-10 Batch 4:  Loss:     1.7478 Vallidaction Accuracy: 0.300000\n",
      "Epoch  1, CIFAR-10 Batch 5:  Loss:     1.8198 Vallidaction Accuracy: 0.375000\n",
      "Epoch  2, CIFAR-10 Batch 1:  Loss:     1.9032 Vallidaction Accuracy: 0.300000\n",
      "Epoch  2, CIFAR-10 Batch 2:  Loss:     1.7208 Vallidaction Accuracy: 0.400000\n",
      "Epoch  2, CIFAR-10 Batch 3:  Loss:     1.3818 Vallidaction Accuracy: 0.475000\n",
      "Epoch  2, CIFAR-10 Batch 4:  Loss:     1.5857 Vallidaction Accuracy: 0.375000\n",
      "Epoch  2, CIFAR-10 Batch 5:  Loss:     1.6822 Vallidaction Accuracy: 0.400000\n",
      "Epoch  3, CIFAR-10 Batch 1:  Loss:     1.6883 Vallidaction Accuracy: 0.500000\n",
      "Epoch  3, CIFAR-10 Batch 2:  Loss:     1.5711 Vallidaction Accuracy: 0.475000\n",
      "Epoch  3, CIFAR-10 Batch 3:  Loss:     1.2969 Vallidaction Accuracy: 0.650000\n",
      "Epoch  3, CIFAR-10 Batch 4:  Loss:     1.4520 Vallidaction Accuracy: 0.400000\n",
      "Epoch  3, CIFAR-10 Batch 5:  Loss:     1.6003 Vallidaction Accuracy: 0.400000\n",
      "Epoch  4, CIFAR-10 Batch 1:  Loss:     1.5192 Vallidaction Accuracy: 0.550000\n",
      "Epoch  4, CIFAR-10 Batch 2:  Loss:     1.4275 Vallidaction Accuracy: 0.450000\n",
      "Epoch  4, CIFAR-10 Batch 3:  Loss:     1.1325 Vallidaction Accuracy: 0.625000\n",
      "Epoch  4, CIFAR-10 Batch 4:  Loss:     1.3769 Vallidaction Accuracy: 0.450000\n",
      "Epoch  4, CIFAR-10 Batch 5:  Loss:     1.4707 Vallidaction Accuracy: 0.475000\n",
      "Epoch  5, CIFAR-10 Batch 1:  Loss:     1.3823 Vallidaction Accuracy: 0.550000\n",
      "Epoch  5, CIFAR-10 Batch 2:  Loss:     1.3472 Vallidaction Accuracy: 0.450000\n",
      "Epoch  5, CIFAR-10 Batch 3:  Loss:     1.0613 Vallidaction Accuracy: 0.675000\n",
      "Epoch  5, CIFAR-10 Batch 4:  Loss:     1.2857 Vallidaction Accuracy: 0.500000\n",
      "Epoch  5, CIFAR-10 Batch 5:  Loss:     1.3642 Vallidaction Accuracy: 0.525000\n",
      "Epoch  6, CIFAR-10 Batch 1:  Loss:     1.1948 Vallidaction Accuracy: 0.625000\n",
      "Epoch  6, CIFAR-10 Batch 2:  Loss:     1.2381 Vallidaction Accuracy: 0.450000\n",
      "Epoch  6, CIFAR-10 Batch 3:  Loss:     1.0131 Vallidaction Accuracy: 0.725000\n",
      "Epoch  6, CIFAR-10 Batch 4:  Loss:     1.1707 Vallidaction Accuracy: 0.525000\n",
      "Epoch  6, CIFAR-10 Batch 5:  Loss:     1.2760 Vallidaction Accuracy: 0.575000\n",
      "Epoch  7, CIFAR-10 Batch 1:  Loss:     1.1547 Vallidaction Accuracy: 0.575000\n",
      "Epoch  7, CIFAR-10 Batch 2:  Loss:     1.1729 Vallidaction Accuracy: 0.500000\n",
      "Epoch  7, CIFAR-10 Batch 3:  Loss:     0.8887 Vallidaction Accuracy: 0.725000\n",
      "Epoch  7, CIFAR-10 Batch 4:  Loss:     1.0865 Vallidaction Accuracy: 0.550000\n",
      "Epoch  7, CIFAR-10 Batch 5:  Loss:     1.1887 Vallidaction Accuracy: 0.525000\n",
      "Epoch  8, CIFAR-10 Batch 1:  Loss:     1.0909 Vallidaction Accuracy: 0.575000\n",
      "Epoch  8, CIFAR-10 Batch 2:  Loss:     1.1979 Vallidaction Accuracy: 0.475000\n",
      "Epoch  8, CIFAR-10 Batch 3:  Loss:     0.8435 Vallidaction Accuracy: 0.800000\n",
      "Epoch  8, CIFAR-10 Batch 4:  Loss:     1.0083 Vallidaction Accuracy: 0.575000\n",
      "Epoch  8, CIFAR-10 Batch 5:  Loss:     1.1210 Vallidaction Accuracy: 0.575000\n",
      "Epoch  9, CIFAR-10 Batch 1:  Loss:     1.0439 Vallidaction Accuracy: 0.600000\n",
      "Epoch  9, CIFAR-10 Batch 2:  Loss:     1.1320 Vallidaction Accuracy: 0.525000\n",
      "Epoch  9, CIFAR-10 Batch 3:  Loss:     0.7988 Vallidaction Accuracy: 0.775000\n",
      "Epoch  9, CIFAR-10 Batch 4:  Loss:     0.9914 Vallidaction Accuracy: 0.600000\n",
      "Epoch  9, CIFAR-10 Batch 5:  Loss:     1.0741 Vallidaction Accuracy: 0.600000\n",
      "Epoch 10, CIFAR-10 Batch 1:  Loss:     0.9988 Vallidaction Accuracy: 0.625000\n",
      "Epoch 10, CIFAR-10 Batch 2:  Loss:     1.1057 Vallidaction Accuracy: 0.575000\n",
      "Epoch 10, CIFAR-10 Batch 3:  Loss:     0.7722 Vallidaction Accuracy: 0.800000\n",
      "Epoch 10, CIFAR-10 Batch 4:  Loss:     0.9146 Vallidaction Accuracy: 0.675000\n",
      "Epoch 10, CIFAR-10 Batch 5:  Loss:     0.9641 Vallidaction Accuracy: 0.675000\n",
      "Epoch 11, CIFAR-10 Batch 1:  Loss:     0.9563 Vallidaction Accuracy: 0.675000\n",
      "Epoch 11, CIFAR-10 Batch 2:  Loss:     1.0776 Vallidaction Accuracy: 0.550000\n",
      "Epoch 11, CIFAR-10 Batch 3:  Loss:     0.7120 Vallidaction Accuracy: 0.750000\n",
      "Epoch 11, CIFAR-10 Batch 4:  Loss:     0.9020 Vallidaction Accuracy: 0.650000\n",
      "Epoch 11, CIFAR-10 Batch 5:  Loss:     1.0381 Vallidaction Accuracy: 0.625000\n",
      "Epoch 12, CIFAR-10 Batch 1:  Loss:     0.8479 Vallidaction Accuracy: 0.650000\n",
      "Epoch 12, CIFAR-10 Batch 2:  Loss:     0.9876 Vallidaction Accuracy: 0.675000\n",
      "Epoch 12, CIFAR-10 Batch 3:  Loss:     0.6617 Vallidaction Accuracy: 0.825000\n",
      "Epoch 12, CIFAR-10 Batch 4:  Loss:     0.8587 Vallidaction Accuracy: 0.625000\n",
      "Epoch 12, CIFAR-10 Batch 5:  Loss:     0.8850 Vallidaction Accuracy: 0.725000\n",
      "Epoch 13, CIFAR-10 Batch 1:  Loss:     0.8669 Vallidaction Accuracy: 0.675000\n",
      "Epoch 13, CIFAR-10 Batch 2:  Loss:     0.9602 Vallidaction Accuracy: 0.650000\n",
      "Epoch 13, CIFAR-10 Batch 3:  Loss:     0.5832 Vallidaction Accuracy: 0.850000\n",
      "Epoch 13, CIFAR-10 Batch 4:  Loss:     0.7956 Vallidaction Accuracy: 0.650000\n",
      "Epoch 13, CIFAR-10 Batch 5:  Loss:     0.8339 Vallidaction Accuracy: 0.725000\n",
      "Epoch 14, CIFAR-10 Batch 1:  Loss:     0.8503 Vallidaction Accuracy: 0.700000\n",
      "Epoch 14, CIFAR-10 Batch 2:  Loss:     0.8811 Vallidaction Accuracy: 0.725000\n",
      "Epoch 14, CIFAR-10 Batch 3:  Loss:     0.6222 Vallidaction Accuracy: 0.875000\n",
      "Epoch 14, CIFAR-10 Batch 4:  Loss:     0.7905 Vallidaction Accuracy: 0.725000\n",
      "Epoch 14, CIFAR-10 Batch 5:  Loss:     0.7934 Vallidaction Accuracy: 0.775000\n",
      "Epoch 15, CIFAR-10 Batch 1:  Loss:     0.7903 Vallidaction Accuracy: 0.700000\n",
      "Epoch 15, CIFAR-10 Batch 2:  Loss:     0.8885 Vallidaction Accuracy: 0.675000\n",
      "Epoch 15, CIFAR-10 Batch 3:  Loss:     0.5474 Vallidaction Accuracy: 0.825000\n",
      "Epoch 15, CIFAR-10 Batch 4:  Loss:     0.7318 Vallidaction Accuracy: 0.750000\n",
      "Epoch 15, CIFAR-10 Batch 5:  Loss:     0.7240 Vallidaction Accuracy: 0.775000\n",
      "Epoch 16, CIFAR-10 Batch 1:  Loss:     0.7930 Vallidaction Accuracy: 0.750000\n",
      "Epoch 16, CIFAR-10 Batch 2:  Loss:     0.8847 Vallidaction Accuracy: 0.625000\n",
      "Epoch 16, CIFAR-10 Batch 3:  Loss:     0.5352 Vallidaction Accuracy: 0.900000\n",
      "Epoch 16, CIFAR-10 Batch 4:  Loss:     0.7248 Vallidaction Accuracy: 0.775000\n",
      "Epoch 16, CIFAR-10 Batch 5:  Loss:     0.7145 Vallidaction Accuracy: 0.700000\n",
      "Epoch 17, CIFAR-10 Batch 1:  Loss:     0.7562 Vallidaction Accuracy: 0.700000\n",
      "Epoch 17, CIFAR-10 Batch 2:  Loss:     0.8034 Vallidaction Accuracy: 0.675000\n",
      "Epoch 17, CIFAR-10 Batch 3:  Loss:     0.5118 Vallidaction Accuracy: 0.850000\n",
      "Epoch 17, CIFAR-10 Batch 4:  Loss:     0.6724 Vallidaction Accuracy: 0.725000\n",
      "Epoch 17, CIFAR-10 Batch 5:  Loss:     0.7111 Vallidaction Accuracy: 0.800000\n",
      "Epoch 18, CIFAR-10 Batch 1:  Loss:     0.7472 Vallidaction Accuracy: 0.750000\n",
      "Epoch 18, CIFAR-10 Batch 2:  Loss:     0.7320 Vallidaction Accuracy: 0.725000\n",
      "Epoch 18, CIFAR-10 Batch 3:  Loss:     0.4738 Vallidaction Accuracy: 0.925000\n",
      "Epoch 18, CIFAR-10 Batch 4:  Loss:     0.6803 Vallidaction Accuracy: 0.775000\n",
      "Epoch 18, CIFAR-10 Batch 5:  Loss:     0.6570 Vallidaction Accuracy: 0.825000\n",
      "Epoch 19, CIFAR-10 Batch 1:  Loss:     0.7230 Vallidaction Accuracy: 0.725000\n",
      "Epoch 19, CIFAR-10 Batch 2:  Loss:     0.7014 Vallidaction Accuracy: 0.725000\n",
      "Epoch 19, CIFAR-10 Batch 3:  Loss:     0.4331 Vallidaction Accuracy: 0.850000\n",
      "Epoch 19, CIFAR-10 Batch 4:  Loss:     0.6557 Vallidaction Accuracy: 0.750000\n",
      "Epoch 19, CIFAR-10 Batch 5:  Loss:     0.6525 Vallidaction Accuracy: 0.825000\n",
      "Epoch 20, CIFAR-10 Batch 1:  Loss:     0.6911 Vallidaction Accuracy: 0.775000\n",
      "Epoch 20, CIFAR-10 Batch 2:  Loss:     0.6896 Vallidaction Accuracy: 0.750000\n",
      "Epoch 20, CIFAR-10 Batch 3:  Loss:     0.4454 Vallidaction Accuracy: 0.850000\n",
      "Epoch 20, CIFAR-10 Batch 4:  Loss:     0.5818 Vallidaction Accuracy: 0.775000\n",
      "Epoch 20, CIFAR-10 Batch 5:  Loss:     0.5773 Vallidaction Accuracy: 0.825000\n",
      "Epoch 21, CIFAR-10 Batch 1:  Loss:     0.6746 Vallidaction Accuracy: 0.775000\n",
      "Epoch 21, CIFAR-10 Batch 2:  Loss:     0.6412 Vallidaction Accuracy: 0.725000\n",
      "Epoch 21, CIFAR-10 Batch 3:  Loss:     0.4148 Vallidaction Accuracy: 0.925000\n",
      "Epoch 21, CIFAR-10 Batch 4:  Loss:     0.5599 Vallidaction Accuracy: 0.800000\n",
      "Epoch 21, CIFAR-10 Batch 5:  Loss:     0.6496 Vallidaction Accuracy: 0.775000\n",
      "Epoch 22, CIFAR-10 Batch 1:  Loss:     0.6204 Vallidaction Accuracy: 0.775000\n",
      "Epoch 22, CIFAR-10 Batch 2:  Loss:     0.6172 Vallidaction Accuracy: 0.825000\n",
      "Epoch 22, CIFAR-10 Batch 3:  Loss:     0.4686 Vallidaction Accuracy: 0.850000\n",
      "Epoch 22, CIFAR-10 Batch 4:  Loss:     0.5860 Vallidaction Accuracy: 0.825000\n",
      "Epoch 22, CIFAR-10 Batch 5:  Loss:     0.6140 Vallidaction Accuracy: 0.800000\n",
      "Epoch 23, CIFAR-10 Batch 1:  Loss:     0.6225 Vallidaction Accuracy: 0.750000\n",
      "Epoch 23, CIFAR-10 Batch 2:  Loss:     0.6537 Vallidaction Accuracy: 0.725000\n",
      "Epoch 23, CIFAR-10 Batch 3:  Loss:     0.4045 Vallidaction Accuracy: 0.925000\n",
      "Epoch 23, CIFAR-10 Batch 4:  Loss:     0.5483 Vallidaction Accuracy: 0.800000\n",
      "Epoch 23, CIFAR-10 Batch 5:  Loss:     0.6042 Vallidaction Accuracy: 0.825000\n",
      "Epoch 24, CIFAR-10 Batch 1:  Loss:     0.5725 Vallidaction Accuracy: 0.825000\n",
      "Epoch 24, CIFAR-10 Batch 2:  Loss:     0.6036 Vallidaction Accuracy: 0.800000\n",
      "Epoch 24, CIFAR-10 Batch 3:  Loss:     0.3767 Vallidaction Accuracy: 0.875000\n",
      "Epoch 24, CIFAR-10 Batch 4:  Loss:     0.5306 Vallidaction Accuracy: 0.875000\n",
      "Epoch 24, CIFAR-10 Batch 5:  Loss:     0.6120 Vallidaction Accuracy: 0.825000\n",
      "Epoch 25, CIFAR-10 Batch 1:  Loss:     0.5964 Vallidaction Accuracy: 0.825000\n",
      "Epoch 25, CIFAR-10 Batch 2:  Loss:     0.6429 Vallidaction Accuracy: 0.750000\n",
      "Epoch 25, CIFAR-10 Batch 3:  Loss:     0.3564 Vallidaction Accuracy: 0.925000\n",
      "Epoch 25, CIFAR-10 Batch 4:  Loss:     0.4784 Vallidaction Accuracy: 0.875000\n",
      "Epoch 25, CIFAR-10 Batch 5:  Loss:     0.5396 Vallidaction Accuracy: 0.850000\n",
      "Epoch 26, CIFAR-10 Batch 1:  Loss:     0.6075 Vallidaction Accuracy: 0.800000\n",
      "Epoch 26, CIFAR-10 Batch 2:  Loss:     0.5735 Vallidaction Accuracy: 0.825000\n",
      "Epoch 26, CIFAR-10 Batch 3:  Loss:     0.3431 Vallidaction Accuracy: 0.925000\n",
      "Epoch 26, CIFAR-10 Batch 4:  Loss:     0.5150 Vallidaction Accuracy: 0.800000\n",
      "Epoch 26, CIFAR-10 Batch 5:  Loss:     0.5680 Vallidaction Accuracy: 0.850000\n",
      "Epoch 27, CIFAR-10 Batch 1:  Loss:     0.5519 Vallidaction Accuracy: 0.850000\n",
      "Epoch 27, CIFAR-10 Batch 2:  Loss:     0.5733 Vallidaction Accuracy: 0.875000\n",
      "Epoch 27, CIFAR-10 Batch 3:  Loss:     0.3146 Vallidaction Accuracy: 0.900000\n",
      "Epoch 27, CIFAR-10 Batch 4:  Loss:     0.4822 Vallidaction Accuracy: 0.875000\n",
      "Epoch 27, CIFAR-10 Batch 5:  Loss:     0.4984 Vallidaction Accuracy: 0.825000\n",
      "Epoch 28, CIFAR-10 Batch 1:  Loss:     0.5644 Vallidaction Accuracy: 0.775000\n",
      "Epoch 28, CIFAR-10 Batch 2:  Loss:     0.5737 Vallidaction Accuracy: 0.800000\n",
      "Epoch 28, CIFAR-10 Batch 3:  Loss:     0.3645 Vallidaction Accuracy: 0.900000\n",
      "Epoch 28, CIFAR-10 Batch 4:  Loss:     0.4966 Vallidaction Accuracy: 0.825000\n",
      "Epoch 28, CIFAR-10 Batch 5:  Loss:     0.5505 Vallidaction Accuracy: 0.825000\n",
      "Epoch 29, CIFAR-10 Batch 1:  Loss:     0.5451 Vallidaction Accuracy: 0.775000\n",
      "Epoch 29, CIFAR-10 Batch 2:  Loss:     0.5272 Vallidaction Accuracy: 0.850000\n",
      "Epoch 29, CIFAR-10 Batch 3:  Loss:     0.3148 Vallidaction Accuracy: 0.900000\n",
      "Epoch 29, CIFAR-10 Batch 4:  Loss:     0.4894 Vallidaction Accuracy: 0.900000\n",
      "Epoch 29, CIFAR-10 Batch 5:  Loss:     0.5149 Vallidaction Accuracy: 0.875000\n",
      "Epoch 30, CIFAR-10 Batch 1:  Loss:     0.5755 Vallidaction Accuracy: 0.800000\n",
      "Epoch 30, CIFAR-10 Batch 2:  Loss:     0.5205 Vallidaction Accuracy: 0.825000\n",
      "Epoch 30, CIFAR-10 Batch 3:  Loss:     0.3319 Vallidaction Accuracy: 0.950000\n",
      "Epoch 30, CIFAR-10 Batch 4:  Loss:     0.4909 Vallidaction Accuracy: 0.850000\n",
      "Epoch 30, CIFAR-10 Batch 5:  Loss:     0.4367 Vallidaction Accuracy: 0.900000\n",
      "Epoch 31, CIFAR-10 Batch 1:  Loss:     0.4950 Vallidaction Accuracy: 0.850000\n",
      "Epoch 31, CIFAR-10 Batch 2:  Loss:     0.4833 Vallidaction Accuracy: 0.850000\n",
      "Epoch 31, CIFAR-10 Batch 3:  Loss:     0.2677 Vallidaction Accuracy: 0.950000\n",
      "Epoch 31, CIFAR-10 Batch 4:  Loss:     0.4789 Vallidaction Accuracy: 0.825000\n",
      "Epoch 31, CIFAR-10 Batch 5:  Loss:     0.4679 Vallidaction Accuracy: 0.925000\n",
      "Epoch 32, CIFAR-10 Batch 1:  Loss:     0.5557 Vallidaction Accuracy: 0.800000\n",
      "Epoch 32, CIFAR-10 Batch 2:  Loss:     0.5029 Vallidaction Accuracy: 0.850000\n",
      "Epoch 32, CIFAR-10 Batch 3:  Loss:     0.3065 Vallidaction Accuracy: 0.950000\n",
      "Epoch 32, CIFAR-10 Batch 4:  Loss:     0.4554 Vallidaction Accuracy: 0.850000\n",
      "Epoch 32, CIFAR-10 Batch 5:  Loss:     0.5081 Vallidaction Accuracy: 0.850000\n",
      "Epoch 33, CIFAR-10 Batch 1:  Loss:     0.5178 Vallidaction Accuracy: 0.800000\n",
      "Epoch 33, CIFAR-10 Batch 2:  Loss:     0.4620 Vallidaction Accuracy: 0.825000\n",
      "Epoch 33, CIFAR-10 Batch 3:  Loss:     0.3174 Vallidaction Accuracy: 0.925000\n",
      "Epoch 33, CIFAR-10 Batch 4:  Loss:     0.3770 Vallidaction Accuracy: 0.875000\n",
      "Epoch 33, CIFAR-10 Batch 5:  Loss:     0.4461 Vallidaction Accuracy: 0.875000\n",
      "Epoch 34, CIFAR-10 Batch 1:  Loss:     0.5603 Vallidaction Accuracy: 0.775000\n",
      "Epoch 34, CIFAR-10 Batch 2:  Loss:     0.4752 Vallidaction Accuracy: 0.800000\n",
      "Epoch 34, CIFAR-10 Batch 3:  Loss:     0.2650 Vallidaction Accuracy: 0.925000\n",
      "Epoch 34, CIFAR-10 Batch 4:  Loss:     0.4563 Vallidaction Accuracy: 0.825000\n",
      "Epoch 34, CIFAR-10 Batch 5:  Loss:     0.4280 Vallidaction Accuracy: 0.875000\n",
      "Epoch 35, CIFAR-10 Batch 1:  Loss:     0.5361 Vallidaction Accuracy: 0.850000\n",
      "Epoch 35, CIFAR-10 Batch 2:  Loss:     0.4060 Vallidaction Accuracy: 0.875000\n",
      "Epoch 35, CIFAR-10 Batch 3:  Loss:     0.2703 Vallidaction Accuracy: 0.925000\n",
      "Epoch 35, CIFAR-10 Batch 4:  Loss:     0.3816 Vallidaction Accuracy: 0.900000\n",
      "Epoch 35, CIFAR-10 Batch 5:  Loss:     0.3904 Vallidaction Accuracy: 0.875000\n",
      "Epoch 36, CIFAR-10 Batch 1:  Loss:     0.5103 Vallidaction Accuracy: 0.825000\n",
      "Epoch 36, CIFAR-10 Batch 2:  Loss:     0.3574 Vallidaction Accuracy: 0.925000\n",
      "Epoch 36, CIFAR-10 Batch 3:  Loss:     0.2885 Vallidaction Accuracy: 0.950000\n",
      "Epoch 36, CIFAR-10 Batch 4:  Loss:     0.4268 Vallidaction Accuracy: 0.825000\n",
      "Epoch 36, CIFAR-10 Batch 5:  Loss:     0.4267 Vallidaction Accuracy: 0.850000\n",
      "Epoch 37, CIFAR-10 Batch 1:  Loss:     0.4925 Vallidaction Accuracy: 0.800000\n",
      "Epoch 37, CIFAR-10 Batch 2:  Loss:     0.3910 Vallidaction Accuracy: 0.850000\n",
      "Epoch 37, CIFAR-10 Batch 3:  Loss:     0.2784 Vallidaction Accuracy: 0.925000\n",
      "Epoch 37, CIFAR-10 Batch 4:  Loss:     0.3824 Vallidaction Accuracy: 0.900000\n",
      "Epoch 37, CIFAR-10 Batch 5:  Loss:     0.4076 Vallidaction Accuracy: 0.850000\n",
      "Epoch 38, CIFAR-10 Batch 1:  Loss:     0.4520 Vallidaction Accuracy: 0.825000\n",
      "Epoch 38, CIFAR-10 Batch 2:  Loss:     0.3494 Vallidaction Accuracy: 0.925000\n",
      "Epoch 38, CIFAR-10 Batch 3:  Loss:     0.2723 Vallidaction Accuracy: 0.950000\n",
      "Epoch 38, CIFAR-10 Batch 4:  Loss:     0.3926 Vallidaction Accuracy: 0.875000\n",
      "Epoch 38, CIFAR-10 Batch 5:  Loss:     0.3826 Vallidaction Accuracy: 0.875000\n",
      "Epoch 39, CIFAR-10 Batch 1:  Loss:     0.4681 Vallidaction Accuracy: 0.775000\n",
      "Epoch 39, CIFAR-10 Batch 2:  Loss:     0.3368 Vallidaction Accuracy: 0.900000\n",
      "Epoch 39, CIFAR-10 Batch 3:  Loss:     0.2379 Vallidaction Accuracy: 0.925000\n",
      "Epoch 39, CIFAR-10 Batch 4:  Loss:     0.3834 Vallidaction Accuracy: 0.875000\n",
      "Epoch 39, CIFAR-10 Batch 5:  Loss:     0.3775 Vallidaction Accuracy: 0.900000\n",
      "Epoch 40, CIFAR-10 Batch 1:  Loss:     0.4623 Vallidaction Accuracy: 0.825000\n",
      "Epoch 40, CIFAR-10 Batch 2:  Loss:     0.3658 Vallidaction Accuracy: 0.900000\n",
      "Epoch 40, CIFAR-10 Batch 3:  Loss:     0.2571 Vallidaction Accuracy: 0.950000\n",
      "Epoch 40, CIFAR-10 Batch 4:  Loss:     0.3931 Vallidaction Accuracy: 0.875000\n",
      "Epoch 40, CIFAR-10 Batch 5:  Loss:     0.3634 Vallidaction Accuracy: 0.875000\n",
      "Epoch 41, CIFAR-10 Batch 1:  Loss:     0.4470 Vallidaction Accuracy: 0.875000\n",
      "Epoch 41, CIFAR-10 Batch 2:  Loss:     0.3447 Vallidaction Accuracy: 0.900000\n",
      "Epoch 41, CIFAR-10 Batch 3:  Loss:     0.2733 Vallidaction Accuracy: 0.950000\n",
      "Epoch 41, CIFAR-10 Batch 4:  Loss:     0.3299 Vallidaction Accuracy: 0.900000\n",
      "Epoch 41, CIFAR-10 Batch 5:  Loss:     0.3205 Vallidaction Accuracy: 0.925000\n",
      "Epoch 42, CIFAR-10 Batch 1:  Loss:     0.4528 Vallidaction Accuracy: 0.875000\n",
      "Epoch 42, CIFAR-10 Batch 2:  Loss:     0.3154 Vallidaction Accuracy: 0.900000\n",
      "Epoch 42, CIFAR-10 Batch 3:  Loss:     0.2511 Vallidaction Accuracy: 0.925000\n",
      "Epoch 42, CIFAR-10 Batch 4:  Loss:     0.3973 Vallidaction Accuracy: 0.875000\n",
      "Epoch 42, CIFAR-10 Batch 5:  Loss:     0.3801 Vallidaction Accuracy: 0.850000\n",
      "Epoch 43, CIFAR-10 Batch 1:  Loss:     0.4154 Vallidaction Accuracy: 0.875000\n",
      "Epoch 43, CIFAR-10 Batch 2:  Loss:     0.3328 Vallidaction Accuracy: 0.875000\n",
      "Epoch 43, CIFAR-10 Batch 3:  Loss:     0.2776 Vallidaction Accuracy: 0.925000\n",
      "Epoch 43, CIFAR-10 Batch 4:  Loss:     0.3778 Vallidaction Accuracy: 0.875000\n",
      "Epoch 43, CIFAR-10 Batch 5:  Loss:     0.3414 Vallidaction Accuracy: 0.900000\n",
      "Epoch 44, CIFAR-10 Batch 1:  Loss:     0.4249 Vallidaction Accuracy: 0.875000\n",
      "Epoch 44, CIFAR-10 Batch 2:  Loss:     0.3403 Vallidaction Accuracy: 0.875000\n",
      "Epoch 44, CIFAR-10 Batch 3:  Loss:     0.2272 Vallidaction Accuracy: 0.950000\n",
      "Epoch 44, CIFAR-10 Batch 4:  Loss:     0.3633 Vallidaction Accuracy: 0.875000\n",
      "Epoch 44, CIFAR-10 Batch 5:  Loss:     0.2871 Vallidaction Accuracy: 0.900000\n",
      "Epoch 45, CIFAR-10 Batch 1:  Loss:     0.3927 Vallidaction Accuracy: 0.875000\n",
      "Epoch 45, CIFAR-10 Batch 2:  Loss:     0.3251 Vallidaction Accuracy: 0.900000\n",
      "Epoch 45, CIFAR-10 Batch 3:  Loss:     0.2334 Vallidaction Accuracy: 0.950000\n",
      "Epoch 45, CIFAR-10 Batch 4:  Loss:     0.3261 Vallidaction Accuracy: 0.925000\n",
      "Epoch 45, CIFAR-10 Batch 5:  Loss:     0.3022 Vallidaction Accuracy: 0.925000\n",
      "Epoch 46, CIFAR-10 Batch 1:  Loss:     0.3484 Vallidaction Accuracy: 0.900000\n",
      "Epoch 46, CIFAR-10 Batch 2:  Loss:     0.2839 Vallidaction Accuracy: 0.975000\n",
      "Epoch 46, CIFAR-10 Batch 3:  Loss:     0.2069 Vallidaction Accuracy: 0.925000\n",
      "Epoch 46, CIFAR-10 Batch 4:  Loss:     0.3751 Vallidaction Accuracy: 0.850000\n",
      "Epoch 46, CIFAR-10 Batch 5:  Loss:     0.2952 Vallidaction Accuracy: 0.925000\n",
      "Epoch 47, CIFAR-10 Batch 1:  Loss:     0.4107 Vallidaction Accuracy: 0.850000\n",
      "Epoch 47, CIFAR-10 Batch 2:  Loss:     0.2772 Vallidaction Accuracy: 0.925000\n",
      "Epoch 47, CIFAR-10 Batch 3:  Loss:     0.2206 Vallidaction Accuracy: 0.900000\n",
      "Epoch 47, CIFAR-10 Batch 4:  Loss:     0.3759 Vallidaction Accuracy: 0.925000\n",
      "Epoch 47, CIFAR-10 Batch 5:  Loss:     0.3266 Vallidaction Accuracy: 0.925000\n",
      "Epoch 48, CIFAR-10 Batch 1:  Loss:     0.3681 Vallidaction Accuracy: 0.900000\n",
      "Epoch 48, CIFAR-10 Batch 2:  Loss:     0.2557 Vallidaction Accuracy: 0.975000\n",
      "Epoch 48, CIFAR-10 Batch 3:  Loss:     0.1988 Vallidaction Accuracy: 0.950000\n",
      "Epoch 48, CIFAR-10 Batch 4:  Loss:     0.3329 Vallidaction Accuracy: 0.900000\n",
      "Epoch 48, CIFAR-10 Batch 5:  Loss:     0.3124 Vallidaction Accuracy: 0.875000\n",
      "Epoch 49, CIFAR-10 Batch 1:  Loss:     0.4023 Vallidaction Accuracy: 0.875000\n",
      "Epoch 49, CIFAR-10 Batch 2:  Loss:     0.3117 Vallidaction Accuracy: 0.875000\n",
      "Epoch 49, CIFAR-10 Batch 3:  Loss:     0.2278 Vallidaction Accuracy: 0.925000\n",
      "Epoch 49, CIFAR-10 Batch 4:  Loss:     0.3473 Vallidaction Accuracy: 0.900000\n",
      "Epoch 49, CIFAR-10 Batch 5:  Loss:     0.2981 Vallidaction Accuracy: 0.875000\n",
      "Epoch 50, CIFAR-10 Batch 1:  Loss:     0.4024 Vallidaction Accuracy: 0.875000\n",
      "Epoch 50, CIFAR-10 Batch 2:  Loss:     0.2484 Vallidaction Accuracy: 0.975000\n",
      "Epoch 50, CIFAR-10 Batch 3:  Loss:     0.2064 Vallidaction Accuracy: 0.925000\n",
      "Epoch 50, CIFAR-10 Batch 4:  Loss:     0.3224 Vallidaction Accuracy: 0.900000\n",
      "Epoch 50, CIFAR-10 Batch 5:  Loss:     0.2731 Vallidaction Accuracy: 0.950000\n",
      "Epoch 51, CIFAR-10 Batch 1:  Loss:     0.3786 Vallidaction Accuracy: 0.900000\n",
      "Epoch 51, CIFAR-10 Batch 2:  Loss:     0.2304 Vallidaction Accuracy: 0.950000\n",
      "Epoch 51, CIFAR-10 Batch 3:  Loss:     0.2119 Vallidaction Accuracy: 0.925000\n",
      "Epoch 51, CIFAR-10 Batch 4:  Loss:     0.3212 Vallidaction Accuracy: 0.925000\n",
      "Epoch 51, CIFAR-10 Batch 5:  Loss:     0.3084 Vallidaction Accuracy: 0.925000\n",
      "Epoch 52, CIFAR-10 Batch 1:  Loss:     0.3819 Vallidaction Accuracy: 0.875000\n",
      "Epoch 52, CIFAR-10 Batch 2:  Loss:     0.2871 Vallidaction Accuracy: 0.900000\n",
      "Epoch 52, CIFAR-10 Batch 3:  Loss:     0.2385 Vallidaction Accuracy: 0.950000\n",
      "Epoch 52, CIFAR-10 Batch 4:  Loss:     0.3774 Vallidaction Accuracy: 0.900000\n",
      "Epoch 52, CIFAR-10 Batch 5:  Loss:     0.2907 Vallidaction Accuracy: 0.925000\n",
      "Epoch 53, CIFAR-10 Batch 1:  Loss:     0.3969 Vallidaction Accuracy: 0.800000\n",
      "Epoch 53, CIFAR-10 Batch 2:  Loss:     0.2347 Vallidaction Accuracy: 0.975000\n",
      "Epoch 53, CIFAR-10 Batch 3:  Loss:     0.2131 Vallidaction Accuracy: 0.900000\n",
      "Epoch 53, CIFAR-10 Batch 4:  Loss:     0.3241 Vallidaction Accuracy: 0.900000\n",
      "Epoch 53, CIFAR-10 Batch 5:  Loss:     0.3200 Vallidaction Accuracy: 0.900000\n",
      "Epoch 54, CIFAR-10 Batch 1:  Loss:     0.3710 Vallidaction Accuracy: 0.900000\n",
      "Epoch 54, CIFAR-10 Batch 2:  Loss:     0.2252 Vallidaction Accuracy: 0.950000\n",
      "Epoch 54, CIFAR-10 Batch 3:  Loss:     0.1787 Vallidaction Accuracy: 0.925000\n",
      "Epoch 54, CIFAR-10 Batch 4:  Loss:     0.3023 Vallidaction Accuracy: 0.925000\n",
      "Epoch 54, CIFAR-10 Batch 5:  Loss:     0.3071 Vallidaction Accuracy: 0.900000\n",
      "Epoch 55, CIFAR-10 Batch 1:  Loss:     0.3822 Vallidaction Accuracy: 0.900000\n",
      "Epoch 55, CIFAR-10 Batch 2:  Loss:     0.2411 Vallidaction Accuracy: 0.925000\n",
      "Epoch 55, CIFAR-10 Batch 3:  Loss:     0.2206 Vallidaction Accuracy: 0.925000\n",
      "Epoch 55, CIFAR-10 Batch 4:  Loss:     0.2926 Vallidaction Accuracy: 0.925000\n",
      "Epoch 55, CIFAR-10 Batch 5:  Loss:     0.2635 Vallidaction Accuracy: 0.950000\n",
      "Epoch 56, CIFAR-10 Batch 1:  Loss:     0.3949 Vallidaction Accuracy: 0.875000\n",
      "Epoch 56, CIFAR-10 Batch 2:  Loss:     0.2012 Vallidaction Accuracy: 0.950000\n",
      "Epoch 56, CIFAR-10 Batch 3:  Loss:     0.2216 Vallidaction Accuracy: 0.900000\n",
      "Epoch 56, CIFAR-10 Batch 4:  Loss:     0.3263 Vallidaction Accuracy: 0.925000\n",
      "Epoch 56, CIFAR-10 Batch 5:  Loss:     0.2922 Vallidaction Accuracy: 0.925000\n",
      "Epoch 57, CIFAR-10 Batch 1:  Loss:     0.3613 Vallidaction Accuracy: 0.825000\n",
      "Epoch 57, CIFAR-10 Batch 2:  Loss:     0.2418 Vallidaction Accuracy: 0.950000\n",
      "Epoch 57, CIFAR-10 Batch 3:  Loss:     0.2174 Vallidaction Accuracy: 0.925000\n",
      "Epoch 57, CIFAR-10 Batch 4:  Loss:     0.2836 Vallidaction Accuracy: 0.925000\n",
      "Epoch 57, CIFAR-10 Batch 5:  Loss:     0.3015 Vallidaction Accuracy: 0.900000\n",
      "Epoch 58, CIFAR-10 Batch 1:  Loss:     0.3425 Vallidaction Accuracy: 0.875000\n",
      "Epoch 58, CIFAR-10 Batch 2:  Loss:     0.2261 Vallidaction Accuracy: 1.000000\n",
      "Epoch 58, CIFAR-10 Batch 3:  Loss:     0.2016 Vallidaction Accuracy: 0.950000\n",
      "Epoch 58, CIFAR-10 Batch 4:  Loss:     0.2713 Vallidaction Accuracy: 0.925000\n",
      "Epoch 58, CIFAR-10 Batch 5:  Loss:     0.2480 Vallidaction Accuracy: 0.925000\n",
      "Epoch 59, CIFAR-10 Batch 1:  Loss:     0.3336 Vallidaction Accuracy: 0.900000\n",
      "Epoch 59, CIFAR-10 Batch 2:  Loss:     0.2573 Vallidaction Accuracy: 0.950000\n",
      "Epoch 59, CIFAR-10 Batch 3:  Loss:     0.1675 Vallidaction Accuracy: 0.925000\n",
      "Epoch 59, CIFAR-10 Batch 4:  Loss:     0.2665 Vallidaction Accuracy: 0.950000\n",
      "Epoch 59, CIFAR-10 Batch 5:  Loss:     0.2664 Vallidaction Accuracy: 0.975000\n",
      "Epoch 60, CIFAR-10 Batch 1:  Loss:     0.3439 Vallidaction Accuracy: 0.900000\n",
      "Epoch 60, CIFAR-10 Batch 2:  Loss:     0.1883 Vallidaction Accuracy: 0.975000\n",
      "Epoch 60, CIFAR-10 Batch 3:  Loss:     0.1843 Vallidaction Accuracy: 0.925000\n",
      "Epoch 60, CIFAR-10 Batch 4:  Loss:     0.2438 Vallidaction Accuracy: 0.925000\n",
      "Epoch 60, CIFAR-10 Batch 5:  Loss:     0.2601 Vallidaction Accuracy: 0.925000\n",
      "Epoch 61, CIFAR-10 Batch 1:  Loss:     0.3512 Vallidaction Accuracy: 0.925000\n",
      "Epoch 61, CIFAR-10 Batch 2:  Loss:     0.1792 Vallidaction Accuracy: 1.000000\n",
      "Epoch 61, CIFAR-10 Batch 3:  Loss:     0.1523 Vallidaction Accuracy: 0.950000\n",
      "Epoch 61, CIFAR-10 Batch 4:  Loss:     0.2978 Vallidaction Accuracy: 0.900000\n",
      "Epoch 61, CIFAR-10 Batch 5:  Loss:     0.2483 Vallidaction Accuracy: 0.925000\n",
      "Epoch 62, CIFAR-10 Batch 1:  Loss:     0.3131 Vallidaction Accuracy: 0.950000\n",
      "Epoch 62, CIFAR-10 Batch 2:  Loss:     0.2546 Vallidaction Accuracy: 0.925000\n",
      "Epoch 62, CIFAR-10 Batch 3:  Loss:     0.2043 Vallidaction Accuracy: 0.950000\n",
      "Epoch 62, CIFAR-10 Batch 4:  Loss:     0.2703 Vallidaction Accuracy: 0.900000\n",
      "Epoch 62, CIFAR-10 Batch 5:  Loss:     0.2472 Vallidaction Accuracy: 0.925000\n",
      "Epoch 63, CIFAR-10 Batch 1:  Loss:     0.3568 Vallidaction Accuracy: 0.875000\n",
      "Epoch 63, CIFAR-10 Batch 2:  Loss:     0.2106 Vallidaction Accuracy: 0.925000\n",
      "Epoch 63, CIFAR-10 Batch 3:  Loss:     0.1794 Vallidaction Accuracy: 0.925000\n",
      "Epoch 63, CIFAR-10 Batch 4:  Loss:     0.2011 Vallidaction Accuracy: 0.950000\n",
      "Epoch 63, CIFAR-10 Batch 5:  Loss:     0.2217 Vallidaction Accuracy: 0.975000\n",
      "Epoch 64, CIFAR-10 Batch 1:  Loss:     0.3492 Vallidaction Accuracy: 0.900000\n",
      "Epoch 64, CIFAR-10 Batch 2:  Loss:     0.1861 Vallidaction Accuracy: 0.950000\n",
      "Epoch 64, CIFAR-10 Batch 3:  Loss:     0.1760 Vallidaction Accuracy: 0.950000\n",
      "Epoch 64, CIFAR-10 Batch 4:  Loss:     0.2451 Vallidaction Accuracy: 0.975000\n",
      "Epoch 64, CIFAR-10 Batch 5:  Loss:     0.2483 Vallidaction Accuracy: 0.925000\n",
      "Epoch 65, CIFAR-10 Batch 1:  Loss:     0.3297 Vallidaction Accuracy: 0.925000\n",
      "Epoch 65, CIFAR-10 Batch 2:  Loss:     0.1869 Vallidaction Accuracy: 0.975000\n",
      "Epoch 65, CIFAR-10 Batch 3:  Loss:     0.1984 Vallidaction Accuracy: 0.925000\n",
      "Epoch 65, CIFAR-10 Batch 4:  Loss:     0.2213 Vallidaction Accuracy: 0.925000\n",
      "Epoch 65, CIFAR-10 Batch 5:  Loss:     0.2462 Vallidaction Accuracy: 0.975000\n",
      "Epoch 66, CIFAR-10 Batch 1:  Loss:     0.3082 Vallidaction Accuracy: 0.950000\n",
      "Epoch 66, CIFAR-10 Batch 2:  Loss:     0.1876 Vallidaction Accuracy: 1.000000\n",
      "Epoch 66, CIFAR-10 Batch 3:  Loss:     0.2085 Vallidaction Accuracy: 0.925000\n",
      "Epoch 66, CIFAR-10 Batch 4:  Loss:     0.2285 Vallidaction Accuracy: 0.925000\n",
      "Epoch 66, CIFAR-10 Batch 5:  Loss:     0.2468 Vallidaction Accuracy: 0.950000\n",
      "Epoch 67, CIFAR-10 Batch 1:  Loss:     0.3055 Vallidaction Accuracy: 0.900000\n",
      "Epoch 67, CIFAR-10 Batch 2:  Loss:     0.1755 Vallidaction Accuracy: 0.975000\n",
      "Epoch 67, CIFAR-10 Batch 3:  Loss:     0.1832 Vallidaction Accuracy: 0.925000\n",
      "Epoch 67, CIFAR-10 Batch 4:  Loss:     0.2533 Vallidaction Accuracy: 0.925000\n",
      "Epoch 67, CIFAR-10 Batch 5:  Loss:     0.2182 Vallidaction Accuracy: 0.950000\n",
      "Epoch 68, CIFAR-10 Batch 1:  Loss:     0.3356 Vallidaction Accuracy: 0.850000\n",
      "Epoch 68, CIFAR-10 Batch 2:  Loss:     0.1796 Vallidaction Accuracy: 0.975000\n",
      "Epoch 68, CIFAR-10 Batch 3:  Loss:     0.1855 Vallidaction Accuracy: 0.925000\n",
      "Epoch 68, CIFAR-10 Batch 4:  Loss:     0.2151 Vallidaction Accuracy: 0.950000\n",
      "Epoch 68, CIFAR-10 Batch 5:  Loss:     0.2349 Vallidaction Accuracy: 0.975000\n",
      "Epoch 69, CIFAR-10 Batch 1:  Loss:     0.3011 Vallidaction Accuracy: 0.900000\n",
      "Epoch 69, CIFAR-10 Batch 2:  Loss:     0.1659 Vallidaction Accuracy: 1.000000\n",
      "Epoch 69, CIFAR-10 Batch 3:  Loss:     0.1683 Vallidaction Accuracy: 0.925000\n",
      "Epoch 69, CIFAR-10 Batch 4:  Loss:     0.2344 Vallidaction Accuracy: 0.925000\n",
      "Epoch 69, CIFAR-10 Batch 5:  Loss:     0.2089 Vallidaction Accuracy: 0.950000\n",
      "Epoch 70, CIFAR-10 Batch 1:  Loss:     0.2757 Vallidaction Accuracy: 0.925000\n",
      "Epoch 70, CIFAR-10 Batch 2:  Loss:     0.1897 Vallidaction Accuracy: 1.000000\n",
      "Epoch 70, CIFAR-10 Batch 3:  Loss:     0.1580 Vallidaction Accuracy: 0.950000\n",
      "Epoch 70, CIFAR-10 Batch 4:  Loss:     0.2427 Vallidaction Accuracy: 0.950000\n",
      "Epoch 70, CIFAR-10 Batch 5:  Loss:     0.2518 Vallidaction Accuracy: 0.900000\n"
     ]
    }
   ],
   "source": [
    "\"\"\"\n",
    "DON'T MODIFY ANYTHING IN THIS CELL\n",
    "\"\"\"\n",
    "save_model_path = './image_classification'\n",
    "\n",
    "print('Training...')\n",
    "with tf.Session() as sess:\n",
    "    # Initializing the variables\n",
    "    sess.run(tf.global_variables_initializer())\n",
    "    \n",
    "    # Training cycle\n",
    "    for epoch in range(epochs):\n",
    "        # Loop over all batches\n",
    "        n_batches = 5\n",
    "        for batch_i in range(1, n_batches + 1):\n",
    "            for batch_features, batch_labels in helper.load_preprocess_training_batch(batch_i, batch_size):\n",
    "                train_neural_network(sess, optimizer, keep_probability, batch_features, batch_labels)\n",
    "            print('Epoch {:>2}, CIFAR-10 Batch {}:  '.format(epoch + 1, batch_i), end='')\n",
    "            print_stats(sess, batch_features, batch_labels, cost, accuracy)\n",
    "            \n",
    "    # Save Model\n",
    "    saver = tf.train.Saver()\n",
    "    save_path = saver.save(sess, save_model_path)"
   ]
  },
  {
   "cell_type": "markdown",
   "metadata": {
    "deletable": true,
    "editable": true
   },
   "source": [
    "# Checkpoint\n",
    "The model has been saved to disk.\n",
    "## Test Model\n",
    "Test your model against the test dataset.  This will be your final accuracy. You should have an accuracy greater than 50%. If you don't, keep tweaking the model architecture and parameters."
   ]
  },
  {
   "cell_type": "code",
   "execution_count": 20,
   "metadata": {
    "collapsed": false,
    "deletable": true,
    "editable": true
   },
   "outputs": [
    {
     "name": "stdout",
     "output_type": "stream",
     "text": [
      "Testing Accuracy: 0.7552412974683544\n",
      "\n"
     ]
    },
    {
     "data": {
      "image/png": "[encoded data removed]",
      "text/plain": [
       "<matplotlib.figure.Figure at 0x7f5cfb096ef0>"
      ]
     },
     "metadata": {
      "image/png": {
       "height": 319,
       "width": 355
      }
     },
     "output_type": "display_data"
    }
   ],
   "source": [
    "\"\"\"\n",
    "DON'T MODIFY ANYTHING IN THIS CELL\n",
    "\"\"\"\n",
    "%matplotlib inline\n",
    "%config InlineBackend.figure_format = 'retina'\n",
    "\n",
    "import tensorflow as tf\n",
    "import pickle\n",
    "import helper\n",
    "import random\n",
    "\n",
    "# Set batch size if not already set\n",
    "try:\n",
    "    if batch_size:\n",
    "        pass\n",
    "except NameError:\n",
    "    batch_size = 64\n",
    "\n",
    "save_model_path = './image_classification'\n",
    "n_samples = 4\n",
    "top_n_predictions = 3\n",
    "\n",
    "def test_model():\n",
    "    \"\"\"\n",
    "    Test the saved model against the test dataset\n",
    "    \"\"\"\n",
    "\n",
    "    test_features, test_labels = pickle.load(open('preprocess_training.p', mode='rb'))\n",
    "    loaded_graph = tf.Graph()\n",
    "\n",
    "    with tf.Session(graph=loaded_graph) as sess:\n",
    "        # Load model\n",
    "        loader = tf.train.import_meta_graph(save_model_path + '.meta')\n",
    "        loader.restore(sess, save_model_path)\n",
    "\n",
    "        # Get Tensors from loaded model\n",
    "        loaded_x = loaded_graph.get_tensor_by_name('x:0')\n",
    "        loaded_y = loaded_graph.get_tensor_by_name('y:0')\n",
    "        loaded_keep_prob = loaded_graph.get_tensor_by_name('keep_prob:0')\n",
    "        loaded_logits = loaded_graph.get_tensor_by_name('logits:0')\n",
    "        loaded_acc = loaded_graph.get_tensor_by_name('accuracy:0')\n",
    "        \n",
    "        # Get accuracy in batches for memory limitations\n",
    "        test_batch_acc_total = 0\n",
    "        test_batch_count = 0\n",
    "        \n",
    "        for train_feature_batch, train_label_batch in helper.batch_features_labels(test_features, test_labels, batch_size):\n",
    "            test_batch_acc_total += sess.run(\n",
    "                loaded_acc,\n",
    "                feed_dict={loaded_x: train_feature_batch, loaded_y: train_label_batch, loaded_keep_prob: 1.0})\n",
    "            test_batch_count += 1\n",
    "\n",
    "        print('Testing Accuracy: {}\\n'.format(test_batch_acc_total/test_batch_count))\n",
    "\n",
    "        # Print Random Samples\n",
    "        random_test_features, random_test_labels = tuple(zip(*random.sample(list(zip(test_features, test_labels)), n_samples)))\n",
    "        random_test_predictions = sess.run(\n",
    "            tf.nn.top_k(tf.nn.softmax(loaded_logits), top_n_predictions),\n",
    "            feed_dict={loaded_x: random_test_features, loaded_y: random_test_labels, loaded_keep_prob: 1.0})\n",
    "        helper.display_image_predictions(random_test_features, random_test_labels, random_test_predictions)\n",
    "\n",
    "\n",
    "test_model()"
   ]
  },
  {
   "cell_type": "markdown",
   "metadata": {
    "deletable": true,
    "editable": true
   },
   "source": [
    "## Why 50-70% Accuracy?\n",
    "You might be wondering why you can't get an accuracy any higher. First things first, 50% isn't bad for a simple CNN.  Pure guessing would get you 10% accuracy. However, you might notice people are getting scores [well above 70%](http://rodrigob.github.io/are_we_there_yet/build/classification_datasets_results.html#43494641522d3130).  That's because we haven't taught you all there is to know about neural networks. We still need to cover a few more techniques.\n",
    "## Submitting This Project\n",
    "When submitting this project, make sure to run all the cells before saving the notebook.  Save the notebook file as \"dlnd_image_classification.ipynb\" and save it as a HTML file under \"File\" -> \"Download as\".  Include the \"helper.py\" and \"problem_unittests.py\" files in your submission."
   ]
  }
 ],
 "metadata": {
  "kernelspec": {
   "display_name": "Python 3",
   "language": "python",
   "name": "python3"
  },
  "language_info": {
   "codemirror_mode": {
    "name": "ipython",
    "version": 3
   },
   "file_extension": ".py",
   "mimetype": "text/x-python",
   "name": "python",
   "nbconvert_exporter": "python",
   "pygments_lexer": "ipython3",
   "version": "3.5.2"
  },
  "widgets": {
   "state": {},
   "version": "1.1.2"
  }
 },
 "nbformat": 4,
 "nbformat_minor": 0
}
